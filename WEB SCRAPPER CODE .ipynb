{
 "cells": [
  {
   "cell_type": "code",
   "execution_count": null,
   "id": "51fd220d",
   "metadata": {},
   "outputs": [
    {
     "name": "stdout",
     "output_type": "stream",
     "text": [
      "What type of quote are you looking for? (love, life, science): life\n",
      "Timed out waiting for quotes to load. Please try again later or check your internet connection.\n",
      "No HTML content found. Exiting...\n"
     ]
    }
   ],
   "source": [
    "from selenium import webdriver\n",
    "from webdriver_manager.chrome import ChromeDriverManager\n",
    "from selenium.webdriver.chrome.service import Service as ChromeService\n",
    "from selenium.webdriver.common.by import By\n",
    "from selenium.webdriver.support.ui import WebDriverWait\n",
    "from selenium.webdriver.support import expected_conditions as EC\n",
    "from selenium.common.exceptions import TimeoutException  # Import TimeoutException\n",
    "from bs4 import BeautifulSoup\n",
    "import random\n",
    "\n",
    "# Set up the Selenium WebDriver using webdriver_manager\n",
    "options = webdriver.ChromeOptions()\n",
    "options.add_argument(\"--headless\")  # Run in headless mode (no browser UI)\n",
    "# No need to specify the path to chromedriver\n",
    "# The ChromeDriverManager will automatically download and manage chromedriver\n",
    "service = ChromeService(executable_path=ChromeDriverManager().install())\n",
    "driver = webdriver.Chrome(service=service, options=options)\n",
    "\n",
    "while True:\n",
    "    quote_type = input(\"What type of quote are you looking for? (love, life, science): \")\n",
    "    if quote_type.lower() == \"life\":\n",
    "        url = \"https://www.goodreads.com/quotes/tag/life\"\n",
    "        break\n",
    "    elif quote_type.lower() == \"love\":\n",
    "        url = \"https://www.goodreads.com/quotes/tag/love\"\n",
    "        break\n",
    "    elif quote_type.lower() == \"science\":\n",
    "        url = \"https://www.goodreads.com/quotes/tag/science\"\n",
    "        break\n",
    "    else:\n",
    "        print(\"Please choose one of the following options: love, life, science\")\n",
    "\n",
    "# Initialize the html variable\n",
    "html = None\n",
    "\n",
    "# Fetch the page with Selenium\n",
    "driver.get(url)\n",
    "\n",
    "# Wait for the page to load and the quotes to be present\n",
    "try:\n",
    "    WebDriverWait(driver, 30).until(\n",
    "        EC.presence_of_all_elements_located((By.CLASS_NAME, \"quoteText\"))\n",
    "    )\n",
    "    html = driver.page_source  # Move inside the try block\n",
    "except TimeoutException as e:\n",
    "    print(\"Timed out waiting for quotes to load. Please try again later or check your internet connection.\")\n",
    "    driver.quit()\n",
    "    exit()\n",
    "\n",
    "# Parse the fetched HTML with BeautifulSoup\n",
    "if html:\n",
    "    html_parser = BeautifulSoup(html, \"html.parser\")\n",
    "    all_quotes = html_parser.findAll(\"div\", attrs={\"class\": \"quoteText\"})\n",
    "\n",
    "    # Debug: Print the total number of quotes found\n",
    "    print(f\"Total quotes found: {len(all_quotes)}\")\n",
    "\n",
    "    # Check if quotes are found and ensure the index is within range\n",
    "    if all_quotes and len(all_quotes) >= 30:\n",
    "        random_quote_num = random.randrange(30)  # Use range 0-29 for 30 elements\n",
    "        print(all_quotes[random_quote_num].text.strip())\n",
    "    else:\n",
    "        print(\"Could not find 30 quotes. Found only:\", len(all_quotes))\n",
    "else:\n",
    "    print(\"No HTML content found. Exiting...\")\n",
    "    driver.quit()\n",
    "    exit()\n"
   ]
  },
  {
   "cell_type": "code",
   "execution_count": null,
   "id": "bbb43953",
   "metadata": {},
   "outputs": [],
   "source": []
  }
 ],
 "metadata": {
  "kernelspec": {
   "display_name": "Python 3 (ipykernel)",
   "language": "python",
   "name": "python3"
  },
  "language_info": {
   "codemirror_mode": {
    "name": "ipython",
    "version": 3
   },
   "file_extension": ".py",
   "mimetype": "text/x-python",
   "name": "python",
   "nbconvert_exporter": "python",
   "pygments_lexer": "ipython3",
   "version": "3.9.17"
  }
 },
 "nbformat": 4,
 "nbformat_minor": 5
}
